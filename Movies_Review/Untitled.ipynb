{
 "cells": [
  {
   "cell_type": "code",
   "execution_count": 1,
   "metadata": {},
   "outputs": [
    {
     "name": "stderr",
     "output_type": "stream",
     "text": [
      "D:\\anaconda2\\lib\\site-packages\\ipykernel_launcher.py:5: ParserWarning: Falling back to the 'python' engine because the 'c' engine does not support regex separators (separators > 1 char and different from '\\s+' are interpreted as regex); you can avoid this warning by specifying engine='python'.\n",
      "  \"\"\"\n",
      "D:\\anaconda2\\lib\\site-packages\\ipykernel_launcher.py:6: ParserWarning: Falling back to the 'python' engine because the 'c' engine does not support regex separators (separators > 1 char and different from '\\s+' are interpreted as regex); you can avoid this warning by specifying engine='python'.\n",
      "  \n",
      "D:\\anaconda2\\lib\\site-packages\\ipykernel_launcher.py:7: ParserWarning: Falling back to the 'python' engine because the 'c' engine does not support regex separators (separators > 1 char and different from '\\s+' are interpreted as regex); you can avoid this warning by specifying engine='python'.\n",
      "  import sys\n"
     ]
    }
   ],
   "source": [
    "import numpy as np\n",
    "import pandas as pd\n",
    "import matplotlib.pyplot as plt\n",
    "\n",
    "ratings = pd.read_table('ratings.dat',sep='::',names=['user_id','movie_id','rating','time'])\n",
    "users = pd.read_table('users.dat',sep='::',names=['user_id','gender','age','occupation','zip'])\n",
    "movies = pd.read_table('movies.dat',sep='::',names=['movie_id','title','genre'])\n"
   ]
  },
  {
   "cell_type": "code",
   "execution_count": 2,
   "metadata": {
    "collapsed": true
   },
   "outputs": [],
   "source": [
    "movies['year'] = movies.title.str.extract(\"\\((\\d{4})\\)\", expand=True)\n",
    "movies.year = pd.to_datetime(movies.year, format='%Y')\n",
    "movies.year = movies.year.dt.year # As there are some NaN years, resulting type will be float (decimals)\n",
    "movies.title = movies.title.str[:-7]\n",
    "\n",
    "\n",
    "genres_unique = pd.DataFrame(movies.genre.str.split('|').tolist()).stack().unique()\n",
    "genres_unique = pd.DataFrame(genres_unique, columns=['genre']) # Format into DataFrame to store later\n",
    "movies = movies.join(movies.genre.str.get_dummies().astype(int))\n",
    "movies.drop('genre', inplace=True, axis=1)\n",
    "\n",
    "\n",
    "\n",
    "movielens_dataset = pd.merge(pd.merge(ratings,users),movies)\n"
   ]
  },
  {
   "cell_type": "code",
   "execution_count": 3,
   "metadata": {},
   "outputs": [
    {
     "data": {
      "text/plain": [
       "American Beauty                                   3428\n",
       "Star Wars: Episode IV - A New Hope                2991\n",
       "Star Wars: Episode V - The Empire Strikes Back    2990\n",
       "Star Wars: Episode VI - Return of the Jedi        2883\n",
       "Jurassic Park                                     2672\n",
       "Saving Private Ryan                               2653\n",
       "Terminator 2: Judgment Day                        2649\n",
       "Matrix, The                                       2590\n",
       "Back to the Future                                2583\n",
       "Silence of the Lambs, The                         2578\n",
       "Men in Black                                      2538\n",
       "Raiders of the Lost Ark                           2514\n",
       "Fargo                                             2513\n",
       "Sixth Sense, The                                  2459\n",
       "Braveheart                                        2443\n",
       "Shakespeare in Love                               2369\n",
       "Princess Bride, The                               2318\n",
       "Schindler's List                                  2304\n",
       "L.A. Confidential                                 2288\n",
       "Groundhog Day                                     2278\n",
       "E.T. the Extra-Terrestrial                        2269\n",
       "Star Wars: Episode I - The Phantom Menace         2250\n",
       "Being John Malkovich                              2241\n",
       "Shawshank Redemption, The                         2227\n",
       "Godfather, The                                    2223\n",
       "Name: title, dtype: int64"
      ]
     },
     "execution_count": 3,
     "metadata": {},
     "output_type": "execute_result"
    }
   ],
   "source": [
    "movielens_dataset.title.value_counts()[:25]"
   ]
  },
  {
   "cell_type": "code",
   "execution_count": 4,
   "metadata": {},
   "outputs": [
    {
     "data": {
      "text/html": [
       "<div>\n",
       "<style>\n",
       "    .dataframe thead tr:only-child th {\n",
       "        text-align: right;\n",
       "    }\n",
       "\n",
       "    .dataframe thead th {\n",
       "        text-align: left;\n",
       "    }\n",
       "\n",
       "    .dataframe tbody tr th {\n",
       "        vertical-align: top;\n",
       "    }\n",
       "</style>\n",
       "<table border=\"1\" class=\"dataframe\">\n",
       "  <thead>\n",
       "    <tr>\n",
       "      <th></th>\n",
       "      <th colspan=\"2\" halign=\"left\">rating</th>\n",
       "    </tr>\n",
       "    <tr>\n",
       "      <th></th>\n",
       "      <th>size</th>\n",
       "      <th>mean</th>\n",
       "    </tr>\n",
       "    <tr>\n",
       "      <th>title</th>\n",
       "      <th></th>\n",
       "      <th></th>\n",
       "    </tr>\n",
       "  </thead>\n",
       "  <tbody>\n",
       "    <tr>\n",
       "      <th>$1,000,000 Duck</th>\n",
       "      <td>37</td>\n",
       "      <td>3.027027</td>\n",
       "    </tr>\n",
       "    <tr>\n",
       "      <th>'Night Mother</th>\n",
       "      <td>70</td>\n",
       "      <td>3.371429</td>\n",
       "    </tr>\n",
       "    <tr>\n",
       "      <th>'Til There Was You</th>\n",
       "      <td>52</td>\n",
       "      <td>2.692308</td>\n",
       "    </tr>\n",
       "    <tr>\n",
       "      <th>'burbs, The</th>\n",
       "      <td>303</td>\n",
       "      <td>2.910891</td>\n",
       "    </tr>\n",
       "    <tr>\n",
       "      <th>...And Justice for All</th>\n",
       "      <td>199</td>\n",
       "      <td>3.713568</td>\n",
       "    </tr>\n",
       "  </tbody>\n",
       "</table>\n",
       "</div>"
      ],
      "text/plain": [
       "                       rating          \n",
       "                         size      mean\n",
       "title                                  \n",
       "$1,000,000 Duck            37  3.027027\n",
       "'Night Mother              70  3.371429\n",
       "'Til There Was You         52  2.692308\n",
       "'burbs, The               303  2.910891\n",
       "...And Justice for All    199  3.713568"
      ]
     },
     "execution_count": 4,
     "metadata": {},
     "output_type": "execute_result"
    }
   ],
   "source": [
    "movie_stats = movielens_dataset.groupby('title').agg({'rating': [np.size, np.mean]})\n",
    "movie_stats.head()\n"
   ]
  },
  {
   "cell_type": "code",
   "execution_count": 5,
   "metadata": {},
   "outputs": [
    {
     "data": {
      "text/html": [
       "<div>\n",
       "<style>\n",
       "    .dataframe thead tr:only-child th {\n",
       "        text-align: right;\n",
       "    }\n",
       "\n",
       "    .dataframe thead th {\n",
       "        text-align: left;\n",
       "    }\n",
       "\n",
       "    .dataframe tbody tr th {\n",
       "        vertical-align: top;\n",
       "    }\n",
       "</style>\n",
       "<table border=\"1\" class=\"dataframe\">\n",
       "  <thead>\n",
       "    <tr>\n",
       "      <th></th>\n",
       "      <th colspan=\"2\" halign=\"left\">rating</th>\n",
       "    </tr>\n",
       "    <tr>\n",
       "      <th></th>\n",
       "      <th>size</th>\n",
       "      <th>mean</th>\n",
       "    </tr>\n",
       "    <tr>\n",
       "      <th>title</th>\n",
       "      <th></th>\n",
       "      <th></th>\n",
       "    </tr>\n",
       "  </thead>\n",
       "  <tbody>\n",
       "    <tr>\n",
       "      <th>Smashing Time</th>\n",
       "      <td>2</td>\n",
       "      <td>5.0</td>\n",
       "    </tr>\n",
       "    <tr>\n",
       "      <th>Song of Freedom</th>\n",
       "      <td>1</td>\n",
       "      <td>5.0</td>\n",
       "    </tr>\n",
       "    <tr>\n",
       "      <th>One Little Indian</th>\n",
       "      <td>1</td>\n",
       "      <td>5.0</td>\n",
       "    </tr>\n",
       "    <tr>\n",
       "      <th>Ulysses (Ulisse)</th>\n",
       "      <td>1</td>\n",
       "      <td>5.0</td>\n",
       "    </tr>\n",
       "    <tr>\n",
       "      <th>Baby, The</th>\n",
       "      <td>1</td>\n",
       "      <td>5.0</td>\n",
       "    </tr>\n",
       "    <tr>\n",
       "      <th>Follow the Bitch</th>\n",
       "      <td>1</td>\n",
       "      <td>5.0</td>\n",
       "    </tr>\n",
       "    <tr>\n",
       "      <th>Schlafes Bruder (Brother of Sleep)</th>\n",
       "      <td>1</td>\n",
       "      <td>5.0</td>\n",
       "    </tr>\n",
       "    <tr>\n",
       "      <th>Gate of Heavenly Peace, The</th>\n",
       "      <td>3</td>\n",
       "      <td>5.0</td>\n",
       "    </tr>\n",
       "    <tr>\n",
       "      <th>Bittersweet Motel</th>\n",
       "      <td>1</td>\n",
       "      <td>5.0</td>\n",
       "    </tr>\n",
       "    <tr>\n",
       "      <th>Lured</th>\n",
       "      <td>1</td>\n",
       "      <td>5.0</td>\n",
       "    </tr>\n",
       "  </tbody>\n",
       "</table>\n",
       "</div>"
      ],
      "text/plain": [
       "                                   rating     \n",
       "                                     size mean\n",
       "title                                         \n",
       "Smashing Time                           2  5.0\n",
       "Song of Freedom                         1  5.0\n",
       "One Little Indian                       1  5.0\n",
       "Ulysses (Ulisse)                        1  5.0\n",
       "Baby, The                               1  5.0\n",
       "Follow the Bitch                        1  5.0\n",
       "Schlafes Bruder (Brother of Sleep)      1  5.0\n",
       "Gate of Heavenly Peace, The             3  5.0\n",
       "Bittersweet Motel                       1  5.0\n",
       "Lured                                   1  5.0"
      ]
     },
     "execution_count": 5,
     "metadata": {},
     "output_type": "execute_result"
    }
   ],
   "source": [
    "movie_stats.sort_values([('rating', 'mean')], ascending=False).head(10)"
   ]
  },
  {
   "cell_type": "code",
   "execution_count": 6,
   "metadata": {},
   "outputs": [
    {
     "data": {
      "text/plain": [
       "<matplotlib.axes._subplots.AxesSubplot at 0x1d575710>"
      ]
     },
     "execution_count": 6,
     "metadata": {},
     "output_type": "execute_result"
    }
   ],
   "source": [
    "atleast_100 = movie_stats['rating']['size'] >= 100\n",
    "movie_stats[atleast_100].sort_values([('rating', 'mean')], ascending=False)[:15].plot(kind = 'barh',legend = False)\n"
   ]
  },
  {
   "cell_type": "code",
   "execution_count": 7,
   "metadata": {},
   "outputs": [
    {
     "data": {
      "text/plain": [
       "<matplotlib.axes._subplots.AxesSubplot at 0xb8d4550>"
      ]
     },
     "execution_count": 7,
     "metadata": {},
     "output_type": "execute_result"
    }
   ],
   "source": [
    "movie_stats[atleast_100].sort_values([('rating', 'mean')], ascending=False)[:15].plot(kind = 'barh',legend = False)\n"
   ]
  },
  {
   "cell_type": "code",
   "execution_count": 8,
   "metadata": {},
   "outputs": [
    {
     "data": {
      "text/plain": [
       "Text(0.5,0,u'age')"
      ]
     },
     "execution_count": 8,
     "metadata": {},
     "output_type": "execute_result"
    }
   ],
   "source": [
    "#Age plot of Users\n",
    "movielens_dataset.age.plot.hist(bins=30)\n",
    "plt.title(\"Distribution of users' ages\")\n",
    "plt.ylabel('count of users')\n",
    "plt.xlabel('age')"
   ]
  },
  {
   "cell_type": "code",
   "execution_count": 9,
   "metadata": {},
   "outputs": [
    {
     "data": {
      "text/plain": [
       "Text(0.5,0,u'Year')"
      ]
     },
     "execution_count": 9,
     "metadata": {},
     "output_type": "execute_result"
    }
   ],
   "source": [
    "movielens_dataset.year.plot.hist(bins = 30)\n",
    "plt.title(\"Distribution of Movies' Yearly\")\n",
    "plt.xlabel(\"Year\")"
   ]
  },
  {
   "cell_type": "code",
   "execution_count": 10,
   "metadata": {},
   "outputs": [
    {
     "data": {
      "text/plain": [
       "Text(0.5,0,u'No of Movies')"
      ]
     },
     "execution_count": 10,
     "metadata": {},
     "output_type": "execute_result"
    }
   ],
   "source": [
    "dfe = movielens_dataset[['Action', 'Adventure', 'Animation', \"Children's\", 'Comedy', 'Crime', 'Documentary','Drama',\n",
    " 'Fantasy',\n",
    " 'Film-Noir',\n",
    " 'Horror',\n",
    " 'Musical',\n",
    " 'Mystery',\n",
    " 'Romance',\n",
    " 'Sci-Fi',\n",
    " 'Thriller',\n",
    " 'War',\n",
    " 'Western']]\n",
    "dfe.columns\n",
    "asd = []\n",
    "for column in dfe:\n",
    "    asd.append(dfe[column].sum())\n",
    "fig, ax = plt.subplots()    \n",
    "width = 0.75 # the width of the bars \n",
    "ind = [u'Action', u'Adventure', u'Animation', u'Childrens', u'Comedy',\n",
    "       u'Crime', u'Documentary', u'Drama', u'Fantasy', u'Film-Noir', u'Horror',\n",
    "       u'Musical', u'Mystery', u'Romance', u'Sci-Fi', u'Thriller', u'War',\n",
    "       u'Western']  # the x locations for the groups\n",
    "ax.barh(ind, asd, color=\"blue\")\n",
    "plt.title('Genres Popularity')\n",
    "plt.xlabel('No of Movies')"
   ]
  },
  {
   "cell_type": "code",
   "execution_count": 11,
   "metadata": {
    "collapsed": true
   },
   "outputs": [],
   "source": [
    "#Low Rated Movies\n",
    "lower_rated = movie_stats['rating']['mean'] < 1.5"
   ]
  },
  {
   "cell_type": "code",
   "execution_count": 12,
   "metadata": {},
   "outputs": [
    {
     "data": {
      "text/plain": [
       "<matplotlib.axes._subplots.AxesSubplot at 0xb33d320>"
      ]
     },
     "execution_count": 12,
     "metadata": {},
     "output_type": "execute_result"
    }
   ],
   "source": [
    "movie_stats[lower_rated].head(10).plot(kind = 'barh',figsize = (8,5))"
   ]
  },
  {
   "cell_type": "code",
   "execution_count": null,
   "metadata": {
    "collapsed": true
   },
   "outputs": [],
   "source": []
  }
 ],
 "metadata": {
  "kernelspec": {
   "display_name": "Python 2",
   "language": "python",
   "name": "python2"
  },
  "language_info": {
   "codemirror_mode": {
    "name": "ipython",
    "version": 2
   },
   "file_extension": ".py",
   "mimetype": "text/x-python",
   "name": "python",
   "nbconvert_exporter": "python",
   "pygments_lexer": "ipython2",
   "version": "2.7.14"
  }
 },
 "nbformat": 4,
 "nbformat_minor": 2
}
